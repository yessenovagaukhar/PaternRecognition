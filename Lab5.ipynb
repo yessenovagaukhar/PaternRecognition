{
 "cells": [
  {
   "cell_type": "code",
   "execution_count": 1,
   "metadata": {},
   "outputs": [
    {
     "name": "stdout",
     "output_type": "stream",
     "text": [
      "[ 5.1  3.5  1.4  0.2  0. ] 0\n",
      "[ 4.9  3.   1.4  0.2  0. ] 0\n",
      "[ 4.7  3.2  1.3  0.2  0. ] 0\n",
      "[ 4.6  3.1  1.5  0.2  0. ] 0\n",
      "[ 5.   3.6  1.4  0.2  0. ] 0\n",
      "[ 5.4  3.9  1.7  0.4  0. ] 0\n",
      "[ 4.6  3.4  1.4  0.3  0. ] 0\n",
      "[ 5.   3.4  1.5  0.2  0. ] 0\n",
      "[ 4.4  2.9  1.4  0.2  0. ] 0\n",
      "[ 4.9  3.1  1.5  0.1  0. ] 0\n",
      "[ 5.4  3.7  1.5  0.2  0. ] 0\n",
      "[ 4.8  3.4  1.6  0.2  0. ] 0\n",
      "[ 4.8  3.   1.4  0.1  0. ] 0\n",
      "[ 4.3  3.   1.1  0.1  0. ] 0\n",
      "[ 5.8  4.   1.2  0.2  0. ] 0\n",
      "[ 5.7  4.4  1.5  0.4  0. ] 0\n",
      "[ 5.4  3.9  1.3  0.4  0. ] 0\n",
      "[ 5.1  3.5  1.4  0.3  0. ] 0\n",
      "[ 5.7  3.8  1.7  0.3  0. ] 0\n",
      "[ 5.1  3.8  1.5  0.3  0. ] 0\n",
      "[ 5.4  3.4  1.7  0.2  0. ] 0\n",
      "[ 5.1  3.7  1.5  0.4  0. ] 0\n",
      "[ 4.6  3.6  1.   0.2  0. ] 0\n",
      "[ 5.1  3.3  1.7  0.5  0. ] 0\n",
      "[ 4.8  3.4  1.9  0.2  0. ] 0\n",
      "[ 5.   3.   1.6  0.2  0. ] 0\n",
      "[ 5.   3.4  1.6  0.4  0. ] 0\n",
      "[ 5.2  3.5  1.5  0.2  0. ] 0\n",
      "[ 5.2  3.4  1.4  0.2  0. ] 0\n",
      "[ 4.7  3.2  1.6  0.2  0. ] 0\n",
      "[ 4.8  3.1  1.6  0.2  0. ] 0\n",
      "[ 5.4  3.4  1.5  0.4  0. ] 0\n",
      "[ 5.2  4.1  1.5  0.1  0. ] 0\n",
      "[ 5.5  4.2  1.4  0.2  0. ] 0\n",
      "[ 4.9  3.1  1.5  0.1  0. ] 0\n",
      "[ 5.   3.2  1.2  0.2  0. ] 0\n",
      "[ 5.5  3.5  1.3  0.2  0. ] 0\n",
      "[ 4.9  3.1  1.5  0.1  0. ] 0\n",
      "[ 4.4  3.   1.3  0.2  0. ] 0\n",
      "[ 5.1  3.4  1.5  0.2  0. ] 0\n",
      "[ 5.   3.5  1.3  0.3  0. ] 0\n",
      "[ 4.5  2.3  1.3  0.3  0. ] 0\n",
      "[ 4.4  3.2  1.3  0.2  0. ] 0\n",
      "[ 5.   3.5  1.6  0.6  0. ] 0\n",
      "[ 5.1  3.8  1.9  0.4  0. ] 0\n",
      "[ 4.8  3.   1.4  0.3  0. ] 0\n",
      "[ 5.1  3.8  1.6  0.2  0. ] 0\n",
      "[ 4.6  3.2  1.4  0.2  0. ] 0\n",
      "[ 5.3  3.7  1.5  0.2  0. ] 0\n",
      "[ 5.   3.3  1.4  0.2  0. ] 0\n",
      "[ 7.   3.2  4.7  1.4  1. ] 0\n",
      "[ 6.4  3.2  4.5  1.5  1. ] 0\n",
      "[ 6.9  3.1  4.9  1.5  1. ] 0\n",
      "[ 5.5  2.3  4.   1.3  1. ] 0\n",
      "[ 6.5  2.8  4.6  1.5  1. ] 0\n",
      "[ 5.7  2.8  4.5  1.3  1. ] 0\n",
      "[ 6.3  3.3  4.7  1.6  1. ] 0\n",
      "[ 4.9  2.4  3.3  1.   1. ] 0\n",
      "[ 6.6  2.9  4.6  1.3  1. ] 0\n",
      "[ 5.2  2.7  3.9  1.4  1. ] 0\n",
      "[ 5.   2.   3.5  1.   1. ] 0\n",
      "[ 5.9  3.   4.2  1.5  1. ] 0\n",
      "[ 6.   2.2  4.   1.   1. ] 0\n",
      "[ 6.1  2.9  4.7  1.4  1. ] 0\n",
      "[ 5.6  2.9  3.6  1.3  1. ] 0\n",
      "[ 6.7  3.1  4.4  1.4  1. ] 0\n",
      "[ 5.6  3.   4.5  1.5  1. ] 0\n",
      "[ 5.8  2.7  4.1  1.   1. ] 0\n",
      "[ 6.2  2.2  4.5  1.5  1. ] 0\n",
      "[ 5.6  2.5  3.9  1.1  1. ] 0\n",
      "[ 5.9  3.2  4.8  1.8  1. ] 0\n",
      "[ 6.1  2.8  4.   1.3  1. ] 0\n",
      "[ 6.3  2.5  4.9  1.5  1. ] 0\n",
      "[ 6.1  2.8  4.7  1.2  1. ] 0\n",
      "[ 6.4  2.9  4.3  1.3  1. ] 0\n",
      "[ 6.6  3.   4.4  1.4  1. ] 0\n",
      "[ 6.8  2.8  4.8  1.4  1. ] 0\n",
      "[ 6.7  3.   5.   1.7  1. ] 0\n",
      "[ 6.   2.9  4.5  1.5  1. ] 0\n",
      "[ 5.7  2.6  3.5  1.   1. ] 0\n",
      "[ 5.5  2.4  3.8  1.1  1. ] 0\n",
      "[ 5.5  2.4  3.7  1.   1. ] 0\n",
      "[ 5.8  2.7  3.9  1.2  1. ] 0\n",
      "[ 6.   2.7  5.1  1.6  1. ] 0\n",
      "[ 5.4  3.   4.5  1.5  1. ] 0\n",
      "[ 6.   3.4  4.5  1.6  1. ] 0\n",
      "[ 6.7  3.1  4.7  1.5  1. ] 0\n",
      "[ 6.3  2.3  4.4  1.3  1. ] 0\n",
      "[ 5.6  3.   4.1  1.3  1. ] 0\n",
      "[ 5.5  2.5  4.   1.3  1. ] 0\n",
      "[ 5.5  2.6  4.4  1.2  1. ] 0\n",
      "[ 6.1  3.   4.6  1.4  1. ] 0\n",
      "[ 5.8  2.6  4.   1.2  1. ] 0\n",
      "[ 5.   2.3  3.3  1.   1. ] 0\n",
      "[ 5.6  2.7  4.2  1.3  1. ] 0\n",
      "[ 5.7  3.   4.2  1.2  1. ] 0\n",
      "[ 5.7  2.9  4.2  1.3  1. ] 0\n",
      "[ 6.2  2.9  4.3  1.3  1. ] 0\n",
      "[ 5.1  2.5  3.   1.1  1. ] 0\n",
      "[ 5.7  2.8  4.1  1.3  1. ] 0\n",
      "[ 6.3  3.3  6.   2.5  2. ] 0\n",
      "[ 5.8  2.7  5.1  1.9  2. ] 0\n",
      "[ 7.1  3.   5.9  2.1  2. ] 0\n",
      "[ 6.3  2.9  5.6  1.8  2. ] 0\n",
      "[ 6.5  3.   5.8  2.2  2. ] 0\n",
      "[ 7.6  3.   6.6  2.1  2. ] 0\n",
      "[ 4.9  2.5  4.5  1.7  2. ] 0\n",
      "[ 7.3  2.9  6.3  1.8  2. ] 0\n",
      "[ 6.7  2.5  5.8  1.8  2. ] 0\n",
      "[ 7.2  3.6  6.1  2.5  2. ] 0\n",
      "[ 6.5  3.2  5.1  2.   2. ] 0\n",
      "[ 6.4  2.7  5.3  1.9  2. ] 0\n",
      "[ 6.8  3.   5.5  2.1  2. ] 0\n",
      "[ 5.7  2.5  5.   2.   2. ] 0\n",
      "[ 5.8  2.8  5.1  2.4  2. ] 0\n",
      "[ 6.4  3.2  5.3  2.3  2. ] 0\n",
      "[ 6.5  3.   5.5  1.8  2. ] 0\n",
      "[ 7.7  3.8  6.7  2.2  2. ] 0\n",
      "[ 7.7  2.6  6.9  2.3  2. ] 0\n",
      "[ 6.   2.2  5.   1.5  2. ] 0\n",
      "[ 6.9  3.2  5.7  2.3  2. ] 0\n",
      "[ 5.6  2.8  4.9  2.   2. ] 0\n",
      "[ 7.7  2.8  6.7  2.   2. ] 0\n",
      "[ 6.3  2.7  4.9  1.8  2. ] 0\n",
      "[ 6.7  3.3  5.7  2.1  2. ] 0\n",
      "[ 7.2  3.2  6.   1.8  2. ] 0\n",
      "[ 6.2  2.8  4.8  1.8  2. ] 0\n",
      "[ 6.1  3.   4.9  1.8  2. ] 0\n",
      "[ 6.4  2.8  5.6  2.1  2. ] 0\n",
      "[ 7.2  3.   5.8  1.6  2. ] 0\n",
      "[ 7.4  2.8  6.1  1.9  2. ] 0\n",
      "[ 7.9  3.8  6.4  2.   2. ] 0\n",
      "[ 6.4  2.8  5.6  2.2  2. ] 0\n",
      "[ 6.3  2.8  5.1  1.5  2. ] 0\n",
      "[ 6.1  2.6  5.6  1.4  2. ] 0\n",
      "[ 7.7  3.   6.1  2.3  2. ] 0\n",
      "[ 6.3  3.4  5.6  2.4  2. ] 0\n",
      "[ 6.4  3.1  5.5  1.8  2. ] 0\n",
      "[ 6.   3.   4.8  1.8  2. ] 0\n",
      "[ 6.9  3.1  5.4  2.1  2. ] 0\n",
      "[ 6.7  3.1  5.6  2.4  2. ] 0\n",
      "[ 6.9  3.1  5.1  2.3  2. ] 0\n",
      "[ 5.8  2.7  5.1  1.9  2. ] 0\n",
      "[ 6.8  3.2  5.9  2.3  2. ] 0\n",
      "[ 6.7  3.3  5.7  2.5  2. ] 0\n",
      "[ 6.7  3.   5.2  2.3  2. ] 0\n",
      "[ 6.3  2.5  5.   1.9  2. ] 0\n",
      "[ 6.5  3.   5.2  2.   2. ] 0\n",
      "[ 6.2  3.4  5.4  2.3  2. ] 0\n",
      "[ 5.9  3.   5.1  1.8  2. ] 0\n"
     ]
    }
   ],
   "source": [
    "import pandas as pd\n",
    "import matplotlib.pyplot as plt\n",
    "from sklearn import datasets\n",
    "from sklearn.decomposition import PCA\n",
    "from sklearn.discriminant_analysis import LinearDiscriminantAnalysis\n",
    "\n",
    "def pre_impl(x,y):\n",
    "    return max(1-x,y)\n",
    "\n",
    "def pred_inp(vec):\n",
    "    return 0\n",
    "\n",
    "def pred_out(vec):\n",
    "    return 1\n",
    "\n",
    "def load_data():\n",
    "    \n",
    "    data = pd.DataFrame(datasets.load_iris().data,columns=['SL','SW','PL','PW'])\n",
    "    labels =  pd.DataFrame(datasets.load_iris().target,columns=['Lab'])\n",
    "    return pd.concat([data,labels],axis=1)\n",
    "\n",
    "\n",
    "for row in load_data().iterrows(): \n",
    "    print(\n",
    "        row[1].as_matrix(),\n",
    "        pred_inp(row[1].as_matrix()),\n",
    "    )"
   ]
  },
  {
   "cell_type": "code",
   "execution_count": 2,
   "metadata": {},
   "outputs": [
    {
     "data": {
      "text/plain": [
       "array(['setosa', 'versicolor', 'virginica'],\n",
       "      dtype='<U10')"
      ]
     },
     "execution_count": 2,
     "metadata": {},
     "output_type": "execute_result"
    }
   ],
   "source": [
    "iris = datasets.load_iris()\n",
    "target_names = iris.target_names\n",
    "target_names"
   ]
  },
  {
   "cell_type": "code",
   "execution_count": 4,
   "metadata": {},
   "outputs": [
    {
     "name": "stdout",
     "output_type": "stream",
     "text": [
      "1 1 1 1\n",
      "1.0\n",
      "1.0\n",
      "1.0\n",
      "1.0\n"
     ]
    }
   ],
   "source": [
    "parameters= input().split()\n",
    "for i in range(len(parameters)):\n",
    "    parameters[i] = float(parameters[i])\n",
    "    print(parameters[i])"
   ]
  },
  {
   "cell_type": "code",
   "execution_count": 5,
   "metadata": {},
   "outputs": [
    {
     "name": "stdout",
     "output_type": "stream",
     "text": [
      "lenght= 1.0 width= 1.0 petallength= 1.0 petalwidth= 1.0\n"
     ]
    }
   ],
   "source": [
    "length = parameters[0]\n",
    "width = parameters[1]\n",
    "petallength = parameters[2]\n",
    "petalwidth = parameters[3]\n",
    "print('lenght=',length, 'width=' ,width, 'petallength=',petallength, 'petalwidth=',petalwidth)"
   ]
  },
  {
   "cell_type": "code",
   "execution_count": 6,
   "metadata": {},
   "outputs": [
    {
     "name": "stdout",
     "output_type": "stream",
     "text": [
      "iris versicolor\n"
     ]
    }
   ],
   "source": [
    "if petalwidth < 1:\n",
    "        print('iris setosa')\n",
    "        s=1\n",
    "elif petalwidth >=1 and float(petalwidth) <=1.6:\n",
    "        print('iris versicolor')\n",
    "        s= 1\n",
    "elif petalwidth >=1.8:\n",
    "        print('iris virginica')\n",
    "        s=1\n",
    "\n",
    "        \n",
    "if s == 0:\n",
    "    if float(length) >= 5.7 and float(width) >= 2.5 and petallength >= 4.5 and petalwidth >= 1.6:\n",
    "        print('iris virginica')\n",
    "    else: \n",
    "        print('iris versicolor')"
   ]
  },
  {
   "cell_type": "code",
   "execution_count": null,
   "metadata": {
    "collapsed": true
   },
   "outputs": [],
   "source": []
  }
 ],
 "metadata": {
  "kernelspec": {
   "display_name": "Python 3",
   "language": "python",
   "name": "python3"
  },
  "language_info": {
   "codemirror_mode": {
    "name": "ipython",
    "version": 3
   },
   "file_extension": ".py",
   "mimetype": "text/x-python",
   "name": "python",
   "nbconvert_exporter": "python",
   "pygments_lexer": "ipython3",
   "version": "3.6.1"
  }
 },
 "nbformat": 4,
 "nbformat_minor": 2
}
