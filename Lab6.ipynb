{
 "cells": [
  {
   "cell_type": "code",
   "execution_count": null,
   "metadata": {
    "collapsed": true
   },
   "outputs": [],
   "source": [
    "import numpy as np\n",
    "import skfuzzy as fuzz\n",
    "from skfuzzy import control as ctrl\n",
    "\n",
    "# New Antecedent/Consequent objects hold universe variables and membership\n",
    "# functions\n",
    "quality = ctrl.Antecedent(np.arange(0, 11, 1), 'quality')\n",
    "service = ctrl.Antecedent(np.arange(0, 11, 1), 'service')\n",
    "interior = ctrl.Antecedent(np.arange(0, 11, 1), 'interior')\n",
    "quota = ctrl.Antecedent(np.arange(0, 11, 1), 'quota')\n",
    "tip = ctrl.Consequent(np.arange(0, 101, 1), 'tip')\n",
    "\n",
    "# Auto-membership function population is possible with .automf(3, 5, or 7)\n",
    "quality.automf(3)\n",
    "service.automf(3)\n",
    "interior.automf(3)\n",
    "quota.automf(3)\n",
    "\n",
    "# Custom membership functions can be built interactively with a familiar,\n",
    "# Pythonic API\n",
    "tip['poor'] = fuzz.trimf(tip.universe, [0, 0, 25])\n",
    "tip['bad'] = fuzz.trimf(tip.universe, [0, 25, 50])\n",
    "tip['average'] = fuzz.trimf(tip.universe, [25, 50, 75])\n",
    "tip['descent'] = fuzz.trimf(tip.universe, [50, 75, 100])\n",
    "tip['great'] = fuzz.trimf(tip.universe, [75, 100, 100])"
   ]
  },
  {
   "cell_type": "code",
   "execution_count": null,
   "metadata": {
    "collapsed": true
   },
   "outputs": [],
   "source": [
    "# You can see how these look with .view()\n",
    "%matplotlib inline\n",
    "quality.view()\n",
    "tip.view()\n",
    "# service.view()\n",
    "# interior.view()\n",
    "# quota.view()"
   ]
  },
  {
   "cell_type": "code",
   "execution_count": null,
   "metadata": {
    "collapsed": true
   },
   "outputs": [],
   "source": [
    "rule1 = ctrl.Rule(quality['poor'] & service['poor'] & interior['poor'] & quota['poor'], tip['poor'])\n",
    "rule2 = ctrl.Rule(quality['average'] & service['average'] & interior['average'] & quota['average'], tip['average'])\n",
    "rule3 = ctrl.Rule(quality['good'] & service['good'] & interior['good'] & quota['good'], tip['great'])\n",
    "rule4 = ctrl.Rule(quality['good'] & service['average'] & interior['good'] & quota['poor'], tip['descent'])\n",
    "rule5 = ctrl.Rule(quality['good'] & service['good'] & interior['poor'] & quota['poor'], tip['bad'])\n",
    "rule6 = ctrl.Rule(quality['good'] & service['poor'] & interior['poor'] & quota['good'], tip['average'])\n",
    "rule7 = ctrl.Rule(quality['average'] & service['good'] & interior['good'] & quota['poor'], tip['descent'])\n",
    "rule8 = ctrl.Rule(quality['poor'] & service['average'] & interior['average'] & quota['average'], tip['bad'])\n",
    "rule9 = ctrl.Rule(quality['good'] & service['good'] & interior['good'] & quota['average'], tip['descent'])\n",
    "rule10 = ctrl.Rule(quality['average'] & service['poor'] & interior['good'] & quota['good'], tip['bad'])\n",
    "rule11 = ctrl.Rule(quality['good'] & service['good'] & interior['average'] & quota['average'], tip['descent'])\n",
    "rule12 = ctrl.Rule(quality['good'] & quota['poor'] & interior['average'] | quality['average'] & quota['good'] & interior['average'], tip['descent'])"
   ]
  },
  {
   "cell_type": "code",
   "execution_count": null,
   "metadata": {
    "collapsed": true
   },
   "outputs": [],
   "source": [
    "tipping_ctrl = ctrl.ControlSystem([rule1, rule2, rule3, rule4, rule5, rule6, rule7, rule8, rule9, rule10, rule11, rule12])\n",
    "tipping = ctrl.ControlSystemSimulation(tipping_ctrl)"
   ]
  },
  {
   "cell_type": "code",
   "execution_count": null,
   "metadata": {
    "collapsed": true
   },
   "outputs": [],
   "source": [
    "tipping.input['quality'] = 9.0\n",
    "tipping.input['service'] = 5.5\n",
    "tipping.input['interior'] = 9.3\n",
    "tipping.input['quota'] = 2.1\n",
    "\n",
    "# Crunch the numbers\n",
    "tipping.compute()"
   ]
  },
  {
   "cell_type": "code",
   "execution_count": null,
   "metadata": {
    "collapsed": true
   },
   "outputs": [],
   "source": [
    "\n",
    "print('Recommended tip',tipping.output['tip'])\n",
    "tip.view(sim=tipping)"
   ]
  },
  {
   "cell_type": "code",
   "execution_count": 1,
   "metadata": {},
   "outputs": [
    {
     "data": {
      "application/vnd.jupyter.widget-view+json": {
       "model_id": "0844e9b5cd5b47bf988f35526862525f",
       "version_major": 2,
       "version_minor": 0
      },
      "text/plain": [
       "A Jupyter Widget"
      ]
     },
     "metadata": {},
     "output_type": "display_data"
    }
   ],
   "source": [
    "\n",
    "from __future__ import print_function\n",
    "from ipywidgets import interact, interactive, fixed, interact_manual\n",
    "import ipywidgets as widgets\n",
    "\n",
    "@interact\n",
    "def calculate_tip(quality=(0,9), service=(0,9), interior=(0,9), quota=(0,9)):\n",
    "    tipping.input['quality'] = quality\n",
    "    tipping.input['service'] = service\n",
    "    tipping.input['interior'] = interior\n",
    "    tipping.input['quota'] = quota\n",
    "    tipping.compute()\n",
    "    print('Recommended tip',tipping.output['tip'])\n",
    "    tip.view(sim=tipping)"
   ]
  },
  {
   "cell_type": "code",
   "execution_count": null,
   "metadata": {
    "collapsed": true
   },
   "outputs": [],
   "source": []
  }
 ],
 "metadata": {
  "kernelspec": {
   "display_name": "Python 3",
   "language": "python",
   "name": "python3"
  },
  "language_info": {
   "codemirror_mode": {
    "name": "ipython",
    "version": 3
   },
   "file_extension": ".py",
   "mimetype": "text/x-python",
   "name": "python",
   "nbconvert_exporter": "python",
   "pygments_lexer": "ipython3",
   "version": "3.6.3"
  }
 },
 "nbformat": 4,
 "nbformat_minor": 2
}
